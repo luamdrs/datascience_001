{
 "cells": [
  {
   "cell_type": "markdown",
   "id": "1947dbe5-e5ec-4eee-b238-a780bf25942f",
   "metadata": {},
   "source": [
    "# Data Science Tools and Ecosystem"
   ]
  },
  {
   "cell_type": "markdown",
   "id": "b6ba24ff-9254-44ab-ba14-ad4840e3856a",
   "metadata": {},
   "source": [
    "_In this notebook, Data Science Tools and Ecosystem are summarized._"
   ]
  },
  {
   "cell_type": "markdown",
   "id": "c8be55e0-6801-4784-af47-b877be5689ae",
   "metadata": {},
   "source": [
    "# Objectives:"
   ]
  },
  {
   "cell_type": "markdown",
   "id": "53212036-ede2-4cab-9e75-47f898d1cd75",
   "metadata": {},
   "source": [
    "- List popular languages for Data Science.\n",
    "- Demonstrate how to convert units of measurement using Python.\n",
    "- Introduce open_source tools for Data Science development.\n",
    "- Explore basic data structures for analysis.\n",
    "- Practive mathematical operations for data manipulation."
   ]
  },
  {
   "cell_type": "markdown",
   "id": "8b8ba203-8673-4887-87b0-e13a3b52a74a",
   "metadata": {},
   "source": [
    "**Some of the popular languages that Data Scientists use are:**"
   ]
  },
  {
   "cell_type": "markdown",
   "id": "09e2310d-e318-4e8f-af64-7d714a291263",
   "metadata": {},
   "source": [
    "1. Python\n",
    "2. R\n",
    "3. Java\n",
    "4. Scala\n",
    "5. C++\n",
    "6. JavaScript\n",
    "7. Julia"
   ]
  },
  {
   "cell_type": "markdown",
   "id": "94f52d77-ad70-4735-a010-0301c5c78816",
   "metadata": {},
   "source": [
    "**Some of the commonly used libraries used by Data Scientists include:**"
   ]
  },
  {
   "cell_type": "markdown",
   "id": "f4e594d2-99e7-4776-997c-6b7bc1432c9e",
   "metadata": {},
   "source": [
    "1. Pandas\n",
    "2. NumPy\n",
    "3. Matplotlib\n",
    "4. Seaborn\n",
    "5. Scikit-learn\n",
    "6. Keras\n",
    "7. TensorFlow\n",
    "8. PyTorch\n",
    "9. Apache Spark"
   ]
  },
  {
   "cell_type": "markdown",
   "id": "9e25b6ed-8554-4dd6-a50e-6d820c2d07e4",
   "metadata": {},
   "source": [
    "# Data Science Tools"
   ]
  },
  {
   "cell_type": "markdown",
   "id": "0f3825a5-71d8-422c-99a7-6875d4c4224d",
   "metadata": {},
   "source": [
    "| Data Science Tools |\n",
    "|--------------------|\n",
    "|  Jupyter Notebook  |\n",
    "|       RStudio      |\n",
    "|  Apache Zeppelin   |"
   ]
  },
  {
   "cell_type": "markdown",
   "id": "848d256e-72c2-413e-b6cc-f0cc69cc977a",
   "metadata": {},
   "source": [
    "### Below are a few examples of evaluating arithmetic expressions in Python."
   ]
  },
  {
   "cell_type": "markdown",
   "id": "668ca080-d637-4116-b7ae-be19ca84cd25",
   "metadata": {},
   "source": [
    "_This a simple arithmetic expression to mutiply then add integers:_"
   ]
  },
  {
   "cell_type": "code",
   "execution_count": 2,
   "id": "12ee0bb7-7e00-4ef8-94b1-ea4b7b2a8c74",
   "metadata": {},
   "outputs": [
    {
     "data": {
      "text/plain": [
       "17"
      ]
     },
     "execution_count": 2,
     "metadata": {},
     "output_type": "execute_result"
    }
   ],
   "source": [
    "(3*4)+5"
   ]
  },
  {
   "cell_type": "markdown",
   "id": "750f70c2-dd57-47e6-ae08-8f72f349944b",
   "metadata": {},
   "source": [
    "_This will convert 200 minutes to hours by diving by 60:_"
   ]
  },
  {
   "cell_type": "code",
   "execution_count": 5,
   "id": "5f131ede-fad6-4dd9-b17f-88310bc443f1",
   "metadata": {},
   "outputs": [
    {
     "name": "stdout",
     "output_type": "stream",
     "text": [
      "3.3333333333333335\n"
     ]
    }
   ],
   "source": [
    "minutes = 200\n",
    "horas = minutes / 60\n",
    "print(horas)"
   ]
  },
  {
   "cell_type": "markdown",
   "id": "7adf9383-b2d7-4285-b4ed-d8ae0d176302",
   "metadata": {},
   "source": [
    "## Author"
   ]
  },
  {
   "cell_type": "markdown",
   "id": "1f39d509-3e20-413f-a094-6ead082d28b7",
   "metadata": {},
   "source": [
    "Luana Silva"
   ]
  }
 ],
 "metadata": {
  "kernelspec": {
   "display_name": "Python 3 (ipykernel)",
   "language": "python",
   "name": "python3"
  },
  "language_info": {
   "codemirror_mode": {
    "name": "ipython",
    "version": 3
   },
   "file_extension": ".py",
   "mimetype": "text/x-python",
   "name": "python",
   "nbconvert_exporter": "python",
   "pygments_lexer": "ipython3",
   "version": "3.11.9"
  }
 },
 "nbformat": 4,
 "nbformat_minor": 5
}
